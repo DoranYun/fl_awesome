{
 "cells": [
  {
   "cell_type": "code",
   "execution_count": 4,
   "metadata": {},
   "outputs": [
    {
     "name": "stdout",
     "output_type": "stream",
     "text": [
      "[[0], [68.12000274658203], [85.68000030517578], [90.62999725341795], [92.04000091552734], [93.19000244140624], [94.26000213623048], [94.5999984741211], [95.06999969482422], [95.44000244140624], [95.72000122070312], [95.9800033569336], [96.25], [96.54000091552734], [96.76000213623048], [96.86000061035156], [96.87999725341795], [97.05999755859376], [97.33999633789062], [97.3499984741211], [97.43000030517578], [97.51000213623048], [97.68000030517578], [97.58000183105467], [97.72000122070312], [97.83000183105467], [97.7300033569336], [98.06999969482422], [98.02999877929688], [97.9499969482422], [98.0199966430664], [98.1500015258789], [98.18000030517578], [98.16999816894533], [98.13999938964844], [98.12000274658205], [98.3000030517578], [98.38999938964844], [98.4000015258789], [98.33999633789062], [98.41999816894533], [98.45999908447266], [98.38999938964844], [98.48999786376952], [98.5], [98.47000122070312], [98.54000091552734], [98.55999755859376], [98.58000183105467], [98.52999877929688], [98.52999877929688]]\n"
     ]
    }
   ],
   "source": [
    "import matplotlib.pyplot as plt\n",
    "import numpy as np\n",
    "import pandas as pd\n",
    "\n",
    "plt.rcParams['font.sans-serif'] = ['Microsoft YaHei']  \n",
    "plt.rcParams['axes.unicode_minus'] = False  # display “ - ”\n",
    "\n",
    "acc_1 = pd.read_csv('test_accuacy_B_10_E_1.csv').to_numpy().tolist()\n",
    "acc_1.insert(0, [0])\n",
    "acc_2 = pd.read_csv('test_accuacy_B_10_E_5.csv').to_numpy().tolist()\n",
    "acc_2.insert(0, [0])\n",
    "acc_3 = pd.read_csv('test_accuacy_B_10_E_20.csv').to_numpy().tolist()\n",
    "acc_3.insert(0, [0])\n",
    "acc_4 = pd.read_csv('test_accuacy_B_50_E_1.csv').to_numpy().tolist()\n",
    "acc_4.insert(0, [0])\n",
    "acc_5 = pd.read_csv('test_accuacy_B_50_E_5.csv').to_numpy().tolist()\n",
    "acc_5.insert(0, [0])\n",
    "acc_6 = pd.read_csv('test_accuacy_B_50_E_20.csv').to_numpy().tolist()\n",
    "acc_6.insert(0, [0])\n"
   ]
  }
 ],
 "metadata": {
  "kernelspec": {
   "display_name": "zero",
   "language": "python",
   "name": "python3"
  },
  "language_info": {
   "codemirror_mode": {
    "name": "ipython",
    "version": 3
   },
   "file_extension": ".py",
   "mimetype": "text/x-python",
   "name": "python",
   "nbconvert_exporter": "python",
   "pygments_lexer": "ipython3",
   "version": "3.9.13"
  }
 },
 "nbformat": 4,
 "nbformat_minor": 2
}
